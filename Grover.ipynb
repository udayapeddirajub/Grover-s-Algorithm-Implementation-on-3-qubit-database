{
 "cells": [
  {
   "cell_type": "code",
   "execution_count": 1,
   "id": "7e272cb2-6c5e-4afc-82ac-7b601347206e",
   "metadata": {},
   "outputs": [
    {
     "name": "stderr",
     "output_type": "stream",
     "text": [
      "<frozen importlib._bootstrap>:219: RuntimeWarning: scipy._lib.messagestream.MessageStream size changed, may indicate binary incompatibility. Expected 56 from C header, got 64 from PyObject\n"
     ]
    }
   ],
   "source": [
    "import numpy as np\n",
    "\n",
    "# Importing standard Qiskit libraries\n",
    "from qiskit import QuantumCircuit, transpile, Aer, IBMQ\n",
    "from qiskit.tools.jupyter import *\n",
    "from qiskit.visualization import *\n",
    "from ibm_quantum_widgets import *\n",
    "from qiskit.providers.aer import QasmSimulator\n",
    "\n",
    "# Loading your IBM Quantum account(s)\n",
    "provider = IBMQ.load_account()\n",
    "from qiskit.circuit.library.standard_gates import XGate, HGate\n",
    "from operator import *\n"
   ]
  },
  {
   "cell_type": "code",
   "execution_count": 2,
   "id": "187972bb-d797-4c62-96f8-825a5c56c5f3",
   "metadata": {},
   "outputs": [],
   "source": [
    "n = 3\n",
    "N = 8 #2**n\n",
    "index_colour_table = {}\n",
    "\n",
    "colour_hash_map = {}\n",
    "index_colour_table = {'000':\"yellow\", '001':\"red\", '010':\"blue\", '011':\"red\", '100':\"green\", '101':\"blue\", '110':\"orange\", '111':\"red\"}\n",
    "colour_hash_map = {\"yellow\":'100', \"red\":'011', \"blue\":'000', \"green\":'001', \"orange\":'010'}\n"
   ]
  },
  {
   "cell_type": "code",
   "execution_count": 3,
   "id": "f6d52deb-d8ab-436c-9dae-462b5fa018c3",
   "metadata": {},
   "outputs": [
    {
     "name": "stdout",
     "output_type": "stream",
     "text": [
      "Database Encoding\n"
     ]
    },
    {
     "data": {
      "image/png": "[encoded data removed]",
      "text/plain": [
       "<Figure size 748.797x385.28 with 1 Axes>"
      ]
     },
     "execution_count": 3,
     "metadata": {},
     "output_type": "execute_result"
    }
   ],
   "source": [
    "def database_oracle(index_colour_table, colour_hash_map):\n",
    "\n",
    "    circ_database = QuantumCircuit(n + n)\n",
    "\n",
    "    for i in range(N):\n",
    "    \n",
    "        circ_data = QuantumCircuit(n)\n",
    "    \n",
    "        idx = bin(i)[2:].zfill(n) # removing the \"0b\" prefix appended by the bin() funtion\n",
    "\n",
    "    \n",
    "        colour = index_colour_table[idx]\n",
    "    \n",
    "        colour_hash = colour_hash_map[colour][::-1]\n",
    "    \n",
    "        for j in range(n):\n",
    "            if colour_hash[j] == '1':\n",
    "                circ_data.x(j)\n",
    "    \n",
    "        # qiskit maps the rightmost bit as the 0th qubit -> qn, ..., q0\n",
    "        # we therefore reverse the index string -> q0, ..., qn\n",
    "    \n",
    "        data_gate = circ_data.to_gate(label=colour).control(num_ctrl_qubits=n, ctrl_state=idx, label=\"index-\"+colour)\n",
    "    \n",
    "        circ_database.append(data_gate, list(range(n+n)))\n",
    "        \n",
    "    return circ_database\n",
    "\n",
    "# drawing the database oracle circuit\n",
    "\n",
    "print(\"Database Encoding\")\n",
    "database_oracle(index_colour_table, colour_hash_map).draw()    "
   ]
  },
  {
   "cell_type": "code",
   "execution_count": 1,
   "id": "9d4f5a7c-d4f3-47fb-8b21-0db83fb80915",
   "metadata": {},
   "outputs": [
    {
     "name": "stdout",
     "output_type": "stream",
     "text": [
      "Traceback \u001b[1;36m(most recent call last)\u001b[0m:\n",
      "\u001b[1;36m  Input \u001b[1;32mIn [1]\u001b[1;36m in \u001b[1;35m<module>\u001b[1;36m\u001b[0m\n",
      "\u001b[1;33m    circ_data = QuantumCircuit(n)\u001b[0m\n",
      "\u001b[1;31mNameError\u001b[0m\u001b[1;31m:\u001b[0m name 'QuantumCircuit' is not defined\n",
      "\n",
      "Use %tb to get the full traceback.\n"
     ]
    },
    {
     "data": {
      "text/html": [
       "\n",
       "<style>\n",
       ".button {\n",
       "  border: none;\n",
       "  color: white;\n",
       "  padding: 4px 8px;\n",
       "  text-align: center;\n",
       "  text-decoration: none;\n",
       "  display: inline-block;\n",
       "  font-size: 12px;\n",
       "  margin: 4px 2px;\n",
       "  transition-duration: 0.2s;\n",
       "  cursor: pointer;\n",
       "}\n",
       ".iqx-button {\n",
       "  background-color: #0f62fe; \n",
       "  color: white; \n",
       "}\n",
       ".iqx-button:hover {\n",
       "  background-color: #0043ce;\n",
       "  color: white;\n",
       "}\n",
       "</style>\n",
       "<a href=\"https://stackoverflow.com/search?q=NameError: name 'QuantumCircuit' is not defined\" target='_blank'><button class='button iqx-button'>Search for solution online</button></a>\n"
      ],
      "text/plain": [
       "<IPython.core.display.HTML object>"
      ]
     },
     "metadata": {},
     "output_type": "display_data"
    }
   ],
   "source": [
    "circ_data = QuantumCircuit(n)\n",
    "\n",
    "m = 0\n",
    "if n==2:\n",
    "    m=3\n",
    "elif n==3:\n",
    "    m=4\n",
    "\n",
    "idx = bin(m)[2:].zfill(n) # removing the \"0b\" prefix appended by the bin() funtion\n",
    "    \n",
    "colour = index_colour_table[idx]\n",
    "    \n",
    "colour_hash = colour_hash_map[colour][::-1]\n",
    "    \n",
    "for j in range(n):\n",
    "    if colour_hash[j] == '1':\n",
    "        circ_data.x(j)\n",
    "\n",
    "print(\"Internal colour encoding for the colour green (as an example)\");\n",
    "        \n",
    "circ_data.draw()\n"
   ]
  },
  {
   "cell_type": "code",
   "execution_count": null,
   "id": "0314dd8b-afa6-44e1-b6e4-d0aadf4363ef",
   "metadata": {},
   "outputs": [],
   "source": []
  }
 ],
 "metadata": {
  "kernelspec": {
   "display_name": "Qiskit v0.34.2 (ipykernel)",
   "language": "python",
   "name": "python3"
  },
  "language_info": {
   "codemirror_mode": {
    "name": "ipython",
    "version": 3
   },
   "file_extension": ".py",
   "mimetype": "text/x-python",
   "name": "python",
   "nbconvert_exporter": "python",
   "pygments_lexer": "ipython3",
   "version": "3.8.12"
  },
  "widgets": {
   "application/vnd.jupyter.widget-state+json": {
    "state": {},
    "version_major": 2,
    "version_minor": 0
   }
  }
 },
 "nbformat": 4,
 "nbformat_minor": 5
}
